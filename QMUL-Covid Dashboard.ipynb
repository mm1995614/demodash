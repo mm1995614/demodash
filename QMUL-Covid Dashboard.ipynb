{
 "cells": [
  {
   "cell_type": "markdown",
   "metadata": {},
   "source": [
    "[DIY Covid-19 Dashboard Kit](https://github.com/fsmeraldi/diy-covid19dash) (C) Fabrizio Smeraldi, 2020 ([f.smeraldi@qmul.ac.uk](mailto:f.smeraldi@qmul.ac.uk) - [web](http://www.eecs.qmul.ac.uk/~fabri/)). This notebook is released under the [GNU GPLv3.0 or later](https://www.gnu.org/licenses/)."
   ]
  },
  {
   "cell_type": "markdown",
   "metadata": {},
   "source": [
    "# DIY Covid-19 Dashboard"
   ]
  },
  {
   "cell_type": "markdown",
   "metadata": {},
   "source": [
    "This is a template for your DIY Covid Dashboard, to which you can add the code you developed in the previous notebooks. The dashboard will be displayed using [voila](https://voila.readthedocs.io/en/stable/index.html), a Python dashboarding tool that converts notebooks to standalone dashboards. Contrary to the other libraries we have seen, the ```voila``` package must be installed using *pip* or *conda* but it does not need to be imported - it rather acts at the level of the notebook server. Package ```voila``` is already installed on the QMUL JupyterHub as well as in the Binder - to install it locally, follow the [instructions](https://voila.readthedocs.io/en/stable/install.html) online.\n",
    "\n",
    "Broadly speaking, Voila acts by **running all the cells in your notebook** when the dashboard is first loaded; it then hides all code cells and displays all markdown cells and any outputs, including widgets. However, the code is still there in the background and handles any interaction with the widgets. To view this dashboard template rendered in Voila click [here](https://mybinder.org/v2/gh/fsmeraldi/diy-covid19dash/main?urlpath=%2Fvoila%2Frender%2FDashboard.ipynb)."
   ]
  },
  {
   "cell_type": "code",
   "execution_count": 1,
   "metadata": {},
   "outputs": [
    {
     "data": {
      "application/vnd.jupyter.widget-view+json": {
       "model_id": "40e5359b14b840f19db592d684b164c7",
       "version_major": 2,
       "version_minor": 0
      },
      "text/plain": [
       "Button(button_style='success', description='Refresh data', icon='refresh', style=ButtonStyle(), tooltip='Press…"
      ]
     },
     "metadata": {},
     "output_type": "display_data"
    },
    {
     "data": {
      "application/vnd.jupyter.widget-view+json": {
       "model_id": "270f208dcbce48c193168a110ecff711",
       "version_major": 2,
       "version_minor": 0
      },
      "text/plain": [
       "HBox(children=(SelectMultiple(description='Option: ', options=('daily_cases', 'daily_deaths', 'total_cases', '…"
      ]
     },
     "metadata": {},
     "output_type": "display_data"
    },
    {
     "data": {
      "application/vnd.jupyter.widget-view+json": {
       "model_id": "5d022f9c20ea4953b6cb3d37a9a6ee5e",
       "version_major": 2,
       "version_minor": 0
      },
      "text/plain": [
       "Output()"
      ]
     },
     "metadata": {},
     "output_type": "display_data"
    }
   ],
   "source": [
    "from IPython.display import clear_output\n",
    "import ipywidgets as wdg\n",
    "import pandas as pd\n",
    "import numpy as np\n",
    "import matplotlib.pyplot as plt\n",
    "import json\n",
    "from uk_covid19 import Cov19API\n",
    "\n",
    "%matplotlib inline\n",
    "plt.rcParams['figure.dpi'] = 125\n",
    "\n",
    "# Read the json file\n",
    "with open(\"cases_deaths_vaccination.json\", \"rt\") as INFILE:\n",
    "    jsondata=json.load(INFILE)\n",
    "\n",
    "\n",
    "def wrangle_data(rawdata):\n",
    "    # Get the data and sort the date \n",
    "    datalist = rawdata['data']\n",
    "    dates = [entry['date'] for entry in datalist]\n",
    "    dates.sort()\n",
    "    # Find the start date and end date after sorting them\n",
    "    startdate = pd.to_datetime(dates[0], format=\"%Y-%m-%d\")\n",
    "    enddate = pd.to_datetime(dates[-1], format=\"%Y-%m-%d\")\n",
    "    # Now we are going to define the data frame\n",
    "    # Set the dates between start and end date as the index then set some columns\n",
    "    index = pd.date_range(startdate, enddate, freq='D')\n",
    "    cases_deaths_vaccinationdf = pd.DataFrame(index=index, columns=['daily_cases', \n",
    "                                                                    'daily_deaths', \n",
    "                                                                    'total_cases', \n",
    "                                                                    'total_deaths', \n",
    "                                                                    'total_1st_dose', \n",
    "                                                                    'total_2nd_dose', \n",
    "                                                                    'total_booster_or_3rd_dose'])\n",
    "    \n",
    "    for entry in datalist: # Each entry is a dictionary with daily_cases, daily_deaths, total_cases, total_deaths, total_1st_dose, total_2nd_dose, total_booster_or_3rd_dose\n",
    "        date = pd.to_datetime(entry['date'], format=\"%Y-%m-%d\")\n",
    "        for column in ['daily_cases', \n",
    "                       'daily_deaths', \n",
    "                       'total_cases', \n",
    "                       'total_deaths', \n",
    "                       'total_1st_dose', \n",
    "                       'total_2nd_dose', \n",
    "                       'total_booster_or_3rd_dose']:\n",
    "            if pd.isna(cases_deaths_vaccinationdf.loc[date, column]): # replace None with 0 \n",
    "                # Access a specific location in the data frame \n",
    "                # Put index and column in a single set of [ ]\n",
    "                value = entry[column]\n",
    "                cases_deaths_vaccinationdf.loc[date, column] = value \n",
    "    \n",
    "    cases_deaths_vaccinationdf.fillna(0, inplace=True) # null replaced by 0\n",
    "    # Calculate the total amount in 'month'\n",
    "    # make sure that all the data look better (in a line shape) in the graph\n",
    "    # especially for 'daily cases' and 'daily death' \n",
    "    cases_deaths_vaccinationdf = cases_deaths_vaccinationdf.resample('M').sum() \n",
    "    return cases_deaths_vaccinationdf\n",
    "\n",
    "cases_deaths_vaccinationdf = wrangle_data(jsondata)\n",
    "\n",
    "\n",
    "# Create a button, clicking it to call the function and refresh the data \n",
    "def access_api():\n",
    "    return jsondata \n",
    "\n",
    "def api_button_callback(button):\n",
    "\n",
    "    apidata = access_api()\n",
    "    global cases_deaths_vaccinationdf\n",
    "    cases_vaccinationdf=wrangle_data(apidata)\n",
    "    refresh_graph(series.value, scale.value)\n",
    "    apibutton.icon=\"refresh\" \n",
    "    apibutton.disabled=False # It can be clicked again and again\n",
    "\n",
    "apibutton=wdg.Button(\n",
    "    description='Refresh data',\n",
    "    disabled=False,\n",
    "    button_style='success',\n",
    "    tooltip=\"Press the button to refresh the data\",\n",
    "    icon='refresh'\n",
    ")\n",
    "\n",
    "apibutton.on_click(api_button_callback) # Register the callback function with the button\n",
    "display(apibutton) # The way for Jupyter notebook to display the widget\n",
    "\n",
    "\n",
    "\n",
    "def plot_new(new):\n",
    "    # Create a plot for the data 0 to 6\n",
    "    cases_deaths_vaccinationdf[new[0]].plot() \n",
    "    cases_deaths_vaccinationdf[new[1]].plot() \n",
    "    cases_deaths_vaccinationdf[new[2]].plot() \n",
    "    cases_deaths_vaccinationdf[new[3]].plot()\n",
    "    cases_deaths_vaccinationdf[new[4]].plot()\n",
    "    cases_deaths_vaccinationdf[new[5]].plot()\n",
    "    cases_deaths_vaccinationdf[new[6]].plot()\n",
    "    plt.show()\n",
    "\n",
    "# Set a multiple choices widget for series\n",
    "series=wdg.SelectMultiple(\n",
    "    options=['daily_cases', \n",
    "             'daily_deaths', \n",
    "             'total_cases', \n",
    "             'total_deaths', \n",
    "             'total_1st_dose', \n",
    "             'total_2nd_dose', \n",
    "             'total_booster_or_3rd_dose'],\n",
    "    value=[], #Here the default value is none\n",
    "    rows=7,\n",
    "    description='Option: ',\n",
    "    disabled=False    \n",
    ")\n",
    "\n",
    "\n",
    "# Set a radio button widget for scale\n",
    "scale=wdg.Dropdown(\n",
    "    options=['linear', 'log'],\n",
    "    value='linear',\n",
    "    description='Scale:',\n",
    "    disabled=False\n",
    ")\n",
    "\n",
    "# Set it to a VBox type\n",
    "controls=wdg.HBox([series, scale])\n",
    "\n",
    "\n",
    "# Create a function for refresh the data\n",
    "def refresh_graph(gcols, gscale):\n",
    "\n",
    "    series.value=[] # Back to the default (description for how to select the data)\n",
    "    scale.value='linear'\n",
    "\n",
    "\n",
    "# Callback function    \n",
    "def cases_deaths_vaccination_graph(gcols, gscale):\n",
    "    \n",
    "    if gscale=='linear':\n",
    "        logscale=False\n",
    "    else:\n",
    "        logscale=True\n",
    "    ncols=len(gcols)\n",
    "    if ncols>0:\n",
    "        cases_deaths_vaccinationdf[list(gcols)].plot(logy=logscale) # Change tuples to lists\n",
    "        plt.show()\n",
    "    else:\n",
    "        print(\"Click to select data for graph\")\n",
    "        print(\"(CTRL-Click or COMMAND-Click to select more than one category)\")\n",
    "\n",
    "# Keep calling cases_deaths_vaccination_graph(gcols=value_of_series, gscale=value_of_scale)\n",
    "graph=wdg.interactive_output(cases_deaths_vaccination_graph, {'gcols': series, 'gscale': scale})\n",
    "\n",
    "display(controls, graph)\n"
   ]
  },
  {
   "cell_type": "markdown",
   "metadata": {},
   "source": [
    "**Author and Copyright Notice** Remember that if you deploy this dashboard as a Binder it will be publicly accessible. Take credit for your work! Also acknowledge your sources: Based on UK Government [data](https://coronavirus.data.gov.uk/) published by [Public Health England](https://www.gov.uk/government/organisations/public-health-england) and on the [DIY Covid Dashboard Kit](https://github.com/fsmeraldi/diy-covid19dash), Copyright (C) Fabrizio Smeraldi 2020,2023. Released under the [GNU GPLv3.0 or later](https://www.gnu.org/licenses/)."
   ]
  }
 ],
 "metadata": {
  "kernelspec": {
   "display_name": "Python 3 (ipykernel)",
   "language": "python",
   "name": "python3"
  },
  "language_info": {
   "codemirror_mode": {
    "name": "ipython",
    "version": 3
   },
   "file_extension": ".py",
   "mimetype": "text/x-python",
   "name": "python",
   "nbconvert_exporter": "python",
   "pygments_lexer": "ipython3",
   "version": "3.10.12"
  }
 },
 "nbformat": 4,
 "nbformat_minor": 4
}
